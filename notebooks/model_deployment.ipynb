{
 "cells": [
  {
   "cell_type": "markdown",
   "metadata": {},
   "source": [
    "# Model Deployment\n",
    "This notebook deploys a demo on gradio. We used it for the final presentation."
   ]
  },
  {
   "cell_type": "markdown",
   "metadata": {},
   "source": [
    "## Load modules"
   ]
  },
  {
   "cell_type": "code",
   "execution_count": null,
   "metadata": {},
   "outputs": [],
   "source": [
    "! pip install -q gradio"
   ]
  },
  {
   "cell_type": "code",
   "execution_count": null,
   "metadata": {},
   "outputs": [],
   "source": [
    "import gradio as gr\n",
    "from keras.saving import load_model\n",
    "import numpy as np\n",
    "from keras.applications.resnet50 import preprocess_input\n"
   ]
  },
  {
   "cell_type": "markdown",
   "metadata": {},
   "source": [
    "## Load model"
   ]
  },
  {
   "cell_type": "code",
   "execution_count": null,
   "metadata": {},
   "outputs": [],
   "source": [
    "# Load best model (ResNet50 with transfer learning, test accuracy of 0.95)\n",
    "model_path = f\"models/model7_240927_0525.keras\"\n",
    "model_ft = load_model(model_path, safe_mode=False)  # safe_mode=False due to the input lambda layer"
   ]
  },
  {
   "cell_type": "code",
   "execution_count": 13,
   "metadata": {},
   "outputs": [],
   "source": [
    "labels = {0: 'airplane', 1: 'automobile', 2: 'bird', 3: 'cat', 4: 'deer', \n",
    "          5: 'dog', 6: 'frog', 7: 'horse', 8: 'ship', 9: 'truck'}\n",
    "\n",
    "def classify_image(image):\n",
    "    image = np.expand_dims(image, axis=0)\n",
    "    image = preprocess_input(image)\n",
    "    prediction = model_ft.predict(image).flatten()\n",
    "    confidences = {labels[i]: float(prediction[i]) for i in range(len(labels))}\n",
    "    return confidences\n",
    "\n",
    "gr.Interface(fn=classify_image,\n",
    "             inputs=gr.Image(width=224, height=224),\n",
    "             outputs=gr.Label(num_top_classes=3),\n",
    "             examples=[\"banana.jpg\", \"car.jpg\"]).launch(share=True)"
   ]
  },
  {
   "cell_type": "markdown",
   "metadata": {},
   "source": [
    "## Conclusion\n",
    "With a few lines of code, I was able to deploy a demo of our best model to Gradio and share it during the presentation. This is a very handy tool.\n",
    "\n",
    "![gradio_demo](../readme/gradio_demo.png)"
   ]
  }
 ],
 "metadata": {
  "kernelspec": {
   "display_name": "Python 3 (ipykernel)",
   "language": "python",
   "name": "python3"
  }
 },
 "nbformat": 4,
 "nbformat_minor": 2
}
